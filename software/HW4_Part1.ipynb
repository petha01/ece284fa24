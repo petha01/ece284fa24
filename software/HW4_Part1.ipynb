{
 "cells": [
  {
   "cell_type": "code",
   "execution_count": 7,
   "id": "0fe61468-172d-4a79-9b22-2330456a2308",
   "metadata": {},
   "outputs": [],
   "source": [
    "import argparse\n",
    "import os\n",
    "import time\n",
    "import shutil\n",
    "\n",
    "import torch\n",
    "import torch.nn as nn\n",
    "import torch.optim as optim\n",
    "import torch.nn.functional as F\n",
    "import torch.backends.cudnn as cudnn\n",
    "\n",
    "    \n",
    "\n",
    "import torchvision\n",
    "import torchvision.transforms as transforms\n",
    "\n",
    "from models import *"
   ]
  },
  {
   "cell_type": "code",
   "execution_count": 8,
   "id": "f7731f36-29bf-433c-9c7e-88430194137f",
   "metadata": {},
   "outputs": [
    {
     "name": "stdout",
     "output_type": "stream",
     "text": [
      "Files already downloaded and verified\n",
      "Files already downloaded and verified\n"
     ]
    }
   ],
   "source": [
    "batch_size = 128\n",
    "normalize = transforms.Normalize(mean=[0.491, 0.482, 0.447], std=[0.247, 0.243, 0.262])\n",
    "\n",
    "train_dataset = torchvision.datasets.CIFAR10(\n",
    "    root='./data',\n",
    "    train=True,\n",
    "    download=True,\n",
    "    transform=transforms.Compose([\n",
    "        transforms.RandomCrop(32, padding=4),\n",
    "        transforms.RandomHorizontalFlip(),\n",
    "        transforms.ToTensor(),\n",
    "        normalize,\n",
    "    ]))\n",
    "trainloader = torch.utils.data.DataLoader(train_dataset, batch_size=batch_size, shuffle=True, num_workers=2)\n",
    "\n",
    "\n",
    "test_dataset = torchvision.datasets.CIFAR10(\n",
    "    root='./data',\n",
    "    train=False,\n",
    "    download=True,\n",
    "    transform=transforms.Compose([\n",
    "        transforms.ToTensor(),\n",
    "        normalize,\n",
    "    ]))\n",
    "\n",
    "testloader = torch.utils.data.DataLoader(test_dataset, batch_size=batch_size, shuffle=False, num_workers=2)"
   ]
  },
  {
   "cell_type": "code",
   "execution_count": 9,
   "id": "29eab6c2-fa68-4c49-a6d6-573fba9e0c82",
   "metadata": {},
   "outputs": [],
   "source": [
    "def validate(val_loader, model, criterion,enablePrint=False):\n",
    "    batch_time = AverageMeter()\n",
    "    losses = AverageMeter()\n",
    "    top1 = AverageMeter()\n",
    "\n",
    "    # switch to evaluate mode\n",
    "    model.eval()\n",
    "\n",
    "    end = time.time()\n",
    "    with torch.no_grad():\n",
    "        for i, (input, target) in enumerate(val_loader):\n",
    "         \n",
    "            input, target = input.cuda(), target.cuda()\n",
    "\n",
    "            # compute output\n",
    "            output = model(input)\n",
    "            loss = criterion(output, target)\n",
    "\n",
    "            # measure accuracy and record loss\n",
    "            prec = accuracy(output, target)[0]\n",
    "            losses.update(loss.item(), input.size(0))\n",
    "            top1.update(prec.item(), input.size(0))\n",
    "\n",
    "            # measure elapsed time\n",
    "            batch_time.update(time.time() - end)\n",
    "            end = time.time()\n",
    "\n",
    "            if enablePrint and i % print_freq == 0:  # This line shows how frequently print out the status. e.g., i%5 => every 5 batch, prints out\n",
    "                print('Test: [{0}/{1}]\\t'\n",
    "                  'Time {batch_time.val:.3f} ({batch_time.avg:.3f})\\t'\n",
    "                  'Loss {loss.val:.4f} ({loss.avg:.4f})\\t'\n",
    "                  'Prec {top1.val:.3f}% ({top1.avg:.3f}%)'.format(\n",
    "                   i, len(val_loader), batch_time=batch_time, loss=losses,\n",
    "                   top1=top1))\n",
    "\n",
    "    if enablePrint: print(' * Prec {top1.avg:.3f}% '.format(top1=top1))\n",
    "    return top1.avg"
   ]
  },
  {
   "cell_type": "code",
   "execution_count": 10,
   "id": "20c6a8d6-d5d5-484e-89d3-cf46c620a180",
   "metadata": {},
   "outputs": [],
   "source": [
    "def accuracy(output, target, topk=(1,)):\n",
    "    \"\"\"Computes the precision@k for the specified values of k\"\"\"\n",
    "    maxk = max(topk)\n",
    "    batch_size = target.size(0)\n",
    "\n",
    "    _, pred = output.topk(maxk, 1, True, True) # topk(k, dim=None, largest=True, sorted=True)\n",
    "                                               # will output (max value, its index)\n",
    "    pred = pred.t()           # transpose\n",
    "    correct = pred.eq(target.view(1, -1).expand_as(pred))   # \"-1\": calculate automatically\n",
    "\n",
    "    res = []\n",
    "    for k in topk:\n",
    "        correct_k = correct[:k].view(-1).float().sum(0)  # view(-1): make a flattened 1D tensor\n",
    "        res.append(correct_k.mul_(100.0 / batch_size))   # correct: size of [maxk, batch_size]\n",
    "    return res"
   ]
  },
  {
   "cell_type": "code",
   "execution_count": 11,
   "id": "8acc976a-09b7-4f91-bd3e-05e41f2e9bfc",
   "metadata": {},
   "outputs": [],
   "source": [
    "class AverageMeter(object):\n",
    "    \"\"\"Computes and stores the average and current value\"\"\"\n",
    "    def __init__(self):\n",
    "        self.reset()\n",
    "\n",
    "    def reset(self):\n",
    "        self.val = 0\n",
    "        self.avg = 0\n",
    "        self.sum = 0\n",
    "        self.count = 0\n",
    "\n",
    "    def update(self, val, n=1):\n",
    "        self.val = val\n",
    "        self.sum += val * n    ## n is impact factor\n",
    "        self.count += n\n",
    "        self.avg = self.sum / self.count"
   ]
  },
  {
   "cell_type": "code",
   "execution_count": 12,
   "id": "14c2c98c-85c8-4ead-b974-fb53e11bffef",
   "metadata": {},
   "outputs": [],
   "source": [
    "model_name = \"resnet20\"\n",
    "fdir = 'result/'+str(model_name)"
   ]
  },
  {
   "cell_type": "code",
   "execution_count": 13,
   "id": "8566055f-1ffb-4255-a4c1-646f2835a689",
   "metadata": {},
   "outputs": [],
   "source": [
    "def act_quantization(b):\n",
    "\n",
    "    def uniform_quant(x, b=3):\n",
    "        xdiv = x.mul(2 ** b - 1)\n",
    "        xhard = xdiv.round().div(2 ** b - 1)\n",
    "        return xhard\n",
    "\n",
    "    class uq(torch.autograd.Function):   # here single underscore means this class is for internal use\n",
    "\n",
    "        def forward(ctx, input, alpha):\n",
    "            input_d = input/alpha\n",
    "            input_c = input_d.clamp(max=1)  # Mingu edited for Alexnet\n",
    "            input_q = uniform_quant(input_c, b)\n",
    "            ctx.save_for_backward(input, input_q)\n",
    "            input_q_out = input_q.mul(alpha)\n",
    "            return input_q_out\n",
    "\n",
    "    return uq().apply\n",
    "\n",
    "\n",
    "def weight_quantization(b):\n",
    "\n",
    "    def uniform_quant(x, b):\n",
    "        xdiv = x.mul((2 ** b - 1))\n",
    "        xhard = xdiv.round().div(2 ** b - 1)  \n",
    "        return xhard\n",
    "\n",
    "    class uq(torch.autograd.Function):\n",
    "\n",
    "        def forward(ctx, input, alpha):\n",
    "            input_d = input/alpha                          # weights are first divided by alpha                       \n",
    "            input_c = input_d.clamp(min=-1, max=1)       # then clipped to [-1,1]\n",
    "            sign = input_c.sign()\n",
    "            input_abs = input_c.abs()\n",
    "            input_q = uniform_quant(input_abs, b).mul(sign)\n",
    "            ctx.save_for_backward(input, input_q)\n",
    "            input_q_out = input_q.mul(alpha)               # rescale to the original range\n",
    "            return input_q_out\n",
    "\n",
    "    return uq().apply\n",
    "\n",
    "\n",
    "class weight_quantize_fn(nn.Module):\n",
    "    def __init__(self, w_bit, alpha=0.0):\n",
    "        super(weight_quantize_fn, self).__init__()\n",
    "        self.w_bit = w_bit-1\n",
    "        self.weight_q = weight_quantization(b=self.w_bit)\n",
    "        self.wgt_alpha = alpha\n",
    "\n",
    "    def forward(self, weight):\n",
    "        weight_q = self.weight_q(weight, self.wgt_alpha)\n",
    "        \n",
    "        return weight_q"
   ]
  },
  {
   "cell_type": "code",
   "execution_count": null,
   "id": "be39aa34-9b5a-4c50-af38-30b4c711476b",
   "metadata": {},
   "outputs": [],
   "source": [
    "fileStr = f'{fdir}/model_best.pth.tar'\n",
    "model = resnet20_cifar()\n",
    "model.cuda()\n",
    "checkpoint = torch.load(fileStr)\n",
    "model.load_state_dict(checkpoint['state_dict'])\n",
    "validate(testloader, model, criterion)"
   ]
  },
  {
   "cell_type": "code",
   "execution_count": null,
   "id": "276c0ab3-afc7-4154-a1e5-69887a5bce88",
   "metadata": {},
   "outputs": [],
   "source": [
    "criterion = nn.CrossEntropyLoss().cuda()"
   ]
  },
  {
   "cell_type": "code",
   "execution_count": null,
   "id": "26255340-6ccc-41c8-83ba-9186c928b8e8",
   "metadata": {},
   "outputs": [],
   "source": [
    "def quantize(model, w_bit, alpha):\n",
    "    weight_quant = weight_quantize_fn(w_bit= w_bits, alpha=alpha)\n",
    "    for layer in model.modules():\n",
    "        if isinstance(layer, torch.nn.Conv2d):\n",
    "            layer.weight = weight_quant(layer.weight)\n",
    "    return model"
   ]
  },
  {
   "cell_type": "code",
   "execution_count": null,
   "id": "b8d5549c-f3e0-4961-8a1b-477932536723",
   "metadata": {},
   "outputs": [],
   "source": [
    "def quantizeAndValidate(w_bit, alpha):\n",
    "    model = resnet20_cifar()\n",
    "    model.cuda()\n",
    "    checkpoint = torch.load(fileStr)\n",
    "    model.load_state_dict(checkpoint['state_dict'])\n",
    "    model = quantize(model, w_bit, alpha)\n",
    "    print(validate(testloader, model, criterion))"
   ]
  },
  {
   "cell_type": "code",
   "execution_count": null,
   "id": "0725ac09-ef66-43b7-8ebc-8a7cd0c0809b",
   "metadata": {},
   "outputs": [],
   "source": [
    "alpha = 4.0\n",
    "quantizeAndValidate(8, alpha)\n",
    "quantizeAndValidate(4, alpha)"
   ]
  }
 ],
 "metadata": {
  "kernelspec": {
   "display_name": "Python 3 (ipykernel)",
   "language": "python",
   "name": "python3"
  },
  "language_info": {
   "codemirror_mode": {
    "name": "ipython",
    "version": 3
   },
   "file_extension": ".py",
   "mimetype": "text/x-python",
   "name": "python",
   "nbconvert_exporter": "python",
   "pygments_lexer": "ipython3",
   "version": "3.11.9"
  }
 },
 "nbformat": 4,
 "nbformat_minor": 5
}
