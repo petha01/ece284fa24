{
 "cells": [
  {
   "cell_type": "code",
   "execution_count": 47,
   "id": "61eae8f7-2208-48f3-84ba-c1f4dbf42240",
   "metadata": {},
   "outputs": [],
   "source": [
    "import argparse\n",
    "import os\n",
    "import time\n",
    "import shutil\n",
    "\n",
    "import torch\n",
    "import torch.nn as nn\n",
    "import torch.optim as optim\n",
    "import torch.nn.functional as F\n",
    "import torch.backends.cudnn as cudnn\n",
    "\n",
    "    \n",
    "\n",
    "import torchvision\n",
    "import torchvision.transforms as transforms\n",
    "\n",
    "from models import *"
   ]
  },
  {
   "cell_type": "code",
   "execution_count": 48,
   "id": "9b198746-95fb-417c-afea-383d70b5d4ac",
   "metadata": {},
   "outputs": [
    {
     "name": "stdout",
     "output_type": "stream",
     "text": [
      "Files already downloaded and verified\n",
      "Files already downloaded and verified\n"
     ]
    }
   ],
   "source": [
    "batch_size = 128\n",
    "normalize = transforms.Normalize(mean=[0.491, 0.482, 0.447], std=[0.247, 0.243, 0.262])\n",
    "\n",
    "train_dataset = torchvision.datasets.CIFAR10(\n",
    "    root='./data',\n",
    "    train=True,\n",
    "    download=True,\n",
    "    transform=transforms.Compose([\n",
    "        transforms.RandomCrop(32, padding=4),\n",
    "        transforms.RandomHorizontalFlip(),\n",
    "        transforms.ToTensor(),\n",
    "        normalize,\n",
    "    ]))\n",
    "trainloader = torch.utils.data.DataLoader(train_dataset, batch_size=batch_size, shuffle=True, num_workers=2)\n",
    "\n",
    "\n",
    "test_dataset = torchvision.datasets.CIFAR10(\n",
    "    root='./data',\n",
    "    train=False,\n",
    "    download=True,\n",
    "    transform=transforms.Compose([\n",
    "        transforms.ToTensor(),\n",
    "        normalize,\n",
    "    ]))\n",
    "\n",
    "testloader = torch.utils.data.DataLoader(test_dataset, batch_size=batch_size, shuffle=False, num_workers=2)"
   ]
  },
  {
   "cell_type": "code",
   "execution_count": 49,
   "id": "678558f7-8cbd-4f4c-b4e8-ba482a092267",
   "metadata": {},
   "outputs": [],
   "source": [
    "print_freq = 100\n",
    "\n",
    "def train(trainloader, model, criterion, optimizer, epoch, enablePrint=False):\n",
    "    batch_time = AverageMeter()   ## at the begining of each epoch, this should be reset\n",
    "    data_time = AverageMeter()\n",
    "    losses = AverageMeter()\n",
    "    top1 = AverageMeter()\n",
    "\n",
    "    model.train()\n",
    "\n",
    "    end = time.time()  # measure current time\n",
    "    \n",
    "    for i, (input, target) in enumerate(trainloader):\n",
    "        # measure data loading time\n",
    "        data_time.update(time.time() - end)  # data loading time\n",
    "\n",
    "        input, target = input.cuda(), target.cuda()\n",
    "\n",
    "        # compute output\n",
    "        output = model(input)\n",
    "        loss = criterion(output, target)\n",
    "\n",
    "        # measure accuracy and record loss\n",
    "        prec = accuracy(output, target)[0]\n",
    "        losses.update(loss.item(), input.size(0))\n",
    "        top1.update(prec.item(), input.size(0))\n",
    "\n",
    "        # compute gradient and do SGD step\n",
    "        optimizer.zero_grad()\n",
    "        loss.backward()\n",
    "        optimizer.step()\n",
    "\n",
    "        # measure elapsed time\n",
    "        batch_time.update(time.time() - end) # time spent to process one batch\n",
    "        end = time.time()\n",
    "\n",
    "        if enablePrint and i % print_freq == 0:\n",
    "            print('Epoch: [{0}][{1}/{2}]\\t'\n",
    "                  'Time {batch_time.val:.3f} ({batch_time.avg:.3f})\\t'\n",
    "                  'Data {data_time.val:.3f} ({data_time.avg:.3f})\\t'\n",
    "                  'Loss {loss.val:.4f} ({loss.avg:.4f})\\t'\n",
    "                  'Prec {top1.val:.3f}% ({top1.avg:.3f}%)'.format(\n",
    "                   epoch, i, len(trainloader), batch_time=batch_time,\n",
    "                   data_time=data_time, loss=losses, top1=top1))"
   ]
  },
  {
   "cell_type": "code",
   "execution_count": 50,
   "id": "8f1fbf41-0b9f-46bb-9f87-542de452aa33",
   "metadata": {},
   "outputs": [],
   "source": [
    "def validate(val_loader, model, criterion,enablePrint=False):\n",
    "    batch_time = AverageMeter()\n",
    "    losses = AverageMeter()\n",
    "    top1 = AverageMeter()\n",
    "\n",
    "    # switch to evaluate mode\n",
    "    model.eval()\n",
    "\n",
    "    end = time.time()\n",
    "    with torch.no_grad():\n",
    "        for i, (input, target) in enumerate(val_loader):\n",
    "         \n",
    "            input, target = input.cuda(), target.cuda()\n",
    "\n",
    "            # compute output\n",
    "            output = model(input)\n",
    "            loss = criterion(output, target)\n",
    "\n",
    "            # measure accuracy and record loss\n",
    "            prec = accuracy(output, target)[0]\n",
    "            losses.update(loss.item(), input.size(0))\n",
    "            top1.update(prec.item(), input.size(0))\n",
    "\n",
    "            # measure elapsed time\n",
    "            batch_time.update(time.time() - end)\n",
    "            end = time.time()\n",
    "\n",
    "            if enablePrint and i % print_freq == 0:  # This line shows how frequently print out the status. e.g., i%5 => every 5 batch, prints out\n",
    "                print('Test: [{0}/{1}]\\t'\n",
    "                  'Time {batch_time.val:.3f} ({batch_time.avg:.3f})\\t'\n",
    "                  'Loss {loss.val:.4f} ({loss.avg:.4f})\\t'\n",
    "                  'Prec {top1.val:.3f}% ({top1.avg:.3f}%)'.format(\n",
    "                   i, len(val_loader), batch_time=batch_time, loss=losses,\n",
    "                   top1=top1))\n",
    "\n",
    "    if enablePrint: print(' * Prec {top1.avg:.3f}% '.format(top1=top1))\n",
    "    return top1.avg"
   ]
  },
  {
   "cell_type": "code",
   "execution_count": 51,
   "id": "f59bbf92-a026-440a-b597-d88866b1904f",
   "metadata": {},
   "outputs": [],
   "source": [
    "def accuracy(output, target, topk=(1,)):\n",
    "    \"\"\"Computes the precision@k for the specified values of k\"\"\"\n",
    "    maxk = max(topk)\n",
    "    batch_size = target.size(0)\n",
    "\n",
    "    _, pred = output.topk(maxk, 1, True, True) # topk(k, dim=None, largest=True, sorted=True)\n",
    "                                               # will output (max value, its index)\n",
    "    pred = pred.t()           # transpose\n",
    "    correct = pred.eq(target.view(1, -1).expand_as(pred))   # \"-1\": calculate automatically\n",
    "\n",
    "    res = []\n",
    "    for k in topk:\n",
    "        correct_k = correct[:k].view(-1).float().sum(0)  # view(-1): make a flattened 1D tensor\n",
    "        res.append(correct_k.mul_(100.0 / batch_size))   # correct: size of [maxk, batch_size]\n",
    "    return res"
   ]
  },
  {
   "cell_type": "code",
   "execution_count": 52,
   "id": "b5d2cc0d-1571-438a-bca0-52052363e971",
   "metadata": {},
   "outputs": [],
   "source": [
    "class AverageMeter(object):\n",
    "    \"\"\"Computes and stores the average and current value\"\"\"\n",
    "    def __init__(self):\n",
    "        self.reset()\n",
    "\n",
    "    def reset(self):\n",
    "        self.val = 0\n",
    "        self.avg = 0\n",
    "        self.sum = 0\n",
    "        self.count = 0\n",
    "\n",
    "    def update(self, val, n=1):\n",
    "        self.val = val\n",
    "        self.sum += val * n    ## n is impact factor\n",
    "        self.count += n\n",
    "        self.avg = self.sum / self.count"
   ]
  },
  {
   "cell_type": "code",
   "execution_count": 53,
   "id": "3959fcec-86f6-4449-bba9-2cf901050106",
   "metadata": {},
   "outputs": [],
   "source": [
    "def adjust_learning_rate(optimizer, epoch):\n",
    "    \"\"\"For resnet, the lr starts from 0.1, and is divided by 10 at 80 and 120 epochs\"\"\"\n",
    "    adjust_list = [80, 120]\n",
    "    if epoch in adjust_list:\n",
    "        for param_group in optimizer.param_groups:\n",
    "            param_group['lr'] = param_group['lr'] * 0.1  "
   ]
  },
  {
   "cell_type": "code",
   "execution_count": 54,
   "id": "79316b97-580a-48af-af2a-07e21d29cfe8",
   "metadata": {},
   "outputs": [],
   "source": [
    "def save_checkpoint(state, is_best, fdir):\n",
    "    filepath = os.path.join(fdir, 'checkpoint.pth')\n",
    "    torch.save(state, filepath)\n",
    "    if is_best:\n",
    "        shutil.copyfile(filepath, os.path.join(fdir, 'model_best.pth.tar'))"
   ]
  },
  {
   "cell_type": "code",
   "execution_count": 55,
   "id": "7694d28b-1c7e-4b59-8f16-a1c299206012",
   "metadata": {},
   "outputs": [],
   "source": [
    "model_name = \"resnet20\"\n",
    "model = resnet20_cifar()"
   ]
  },
  {
   "cell_type": "code",
   "execution_count": 56,
   "id": "fee9fdf7-096c-4c50-9c80-26541088f98c",
   "metadata": {},
   "outputs": [],
   "source": [
    "lr = 0.1\n",
    "weight_decay = 1e-4\n",
    "epochs = 150\n",
    "best_prec = 0\n",
    "\n",
    "model = model.cuda()\n",
    "\n",
    "criterion = nn.CrossEntropyLoss().cuda()\n",
    "optimizer = torch.optim.SGD(model.parameters(), lr=lr, momentum=0.9, weight_decay=weight_decay)\n",
    "# weight decay: for regularization to prevent overfitting\n",
    "\n",
    "if not os.path.exists('result'):\n",
    "    os.makedirs('result')\n",
    "    \n",
    "fdir = 'result/'+str(model_name)\n",
    "\n",
    "if not os.path.exists(fdir):\n",
    "    os.makedirs(fdir)"
   ]
  },
  {
   "cell_type": "code",
   "execution_count": 11,
   "id": "0b66ebbb-0373-4865-a705-7551326147c1",
   "metadata": {},
   "outputs": [
    {
     "name": "stdout",
     "output_type": "stream",
     "text": [
      "Epoch: 0, best acc: 47.710\n",
      "Epoch: 5, best acc: 73.780\n",
      "Epoch: 10, best acc: 82.270\n",
      "Epoch: 15, best acc: 83.340\n",
      "Epoch: 20, best acc: 84.510\n",
      "Epoch: 25, best acc: 84.510\n",
      "Epoch: 30, best acc: 85.760\n",
      "Epoch: 35, best acc: 85.760\n",
      "Epoch: 40, best acc: 86.700\n",
      "Epoch: 45, best acc: 87.260\n",
      "Epoch: 50, best acc: 87.260\n",
      "Epoch: 55, best acc: 87.260\n",
      "Epoch: 60, best acc: 87.260\n",
      "Epoch: 65, best acc: 87.350\n",
      "Epoch: 70, best acc: 87.350\n",
      "Epoch: 75, best acc: 87.560\n",
      "Epoch: 80, best acc: 90.780\n",
      "Epoch: 85, best acc: 91.500\n",
      "Epoch: 90, best acc: 91.590\n",
      "Epoch: 95, best acc: 91.600\n",
      "Epoch: 100, best acc: 91.680\n",
      "Epoch: 105, best acc: 91.700\n",
      "Epoch: 110, best acc: 91.700\n",
      "Epoch: 115, best acc: 91.700\n",
      "Epoch: 120, best acc: 91.700\n",
      "Epoch: 125, best acc: 91.700\n",
      "Epoch: 130, best acc: 91.700\n",
      "Epoch: 135, best acc: 91.700\n",
      "Epoch: 140, best acc: 91.700\n",
      "Epoch: 145, best acc: 91.700\n"
     ]
    }
   ],
   "source": [
    "for epoch in range(0, epochs):\n",
    "    adjust_learning_rate(optimizer, epoch)\n",
    "\n",
    "    train(trainloader, model, criterion, optimizer, epoch, enablePrint=False)\n",
    "    \n",
    "    # evaluate on test set\n",
    "    # print(\"Validation starts\")\n",
    "    prec = validate(testloader, model, criterion, enablePrint=False)\n",
    "\n",
    "    # remember best precision and save checkpoint\n",
    "    is_best = prec > best_prec\n",
    "    best_prec = max(prec,best_prec)\n",
    "    if epoch % 5 == 0:\n",
    "        print('Epoch: {epoch}, best acc: {best_prec:.3f}'.format(epoch=epoch, best_prec=best_prec))\n",
    "    save_checkpoint({\n",
    "        'epoch': epoch + 1,\n",
    "        'state_dict': model.state_dict(),\n",
    "        'best_prec': best_prec,\n",
    "        'optimizer': optimizer.state_dict(),\n",
    "    }, is_best, fdir)"
   ]
  },
  {
   "cell_type": "code",
   "execution_count": 57,
   "id": "73740cad-325b-41b3-9546-6caa5ddee00e",
   "metadata": {},
   "outputs": [
    {
     "data": {
      "text/plain": [
       "91.7"
      ]
     },
     "execution_count": 57,
     "metadata": {},
     "output_type": "execute_result"
    }
   ],
   "source": [
    "fileStr = f'{fdir}/model_best.pth.tar'\n",
    "importedModel = resnet20_cifar()\n",
    "importedModel.cuda()\n",
    "checkpoint = torch.load(fileStr)\n",
    "importedModel.load_state_dict(checkpoint['state_dict'])\n",
    "validate(testloader, importedModel, criterion)"
   ]
  },
  {
   "cell_type": "code",
   "execution_count": 58,
   "id": "3a8aa124-c7ae-4656-afb0-cde3bfd2d183",
   "metadata": {},
   "outputs": [],
   "source": [
    "class SaveOutput:\n",
    "    def __init__(self):\n",
    "        self.outputs = []\n",
    "    def __call__(self, module, module_in):\n",
    "        self.outputs.append(module_in)\n",
    "    def clear(self):\n",
    "        self.outputs = []  \n",
    "        \n",
    "######### Save inputs from selected layer ##########\n",
    "save_output = SaveOutput()\n",
    "\n",
    "for layer in importedModel.modules():\n",
    "    if isinstance(layer, torch.nn.Conv2d):        \n",
    "        layer.register_forward_pre_hook(save_output)       ## Input for the module will be grapped \n",
    "####################################################\n",
    "\n",
    "dataiter = iter(trainloader)\n",
    "images, labels = next(dataiter)\n",
    "images = images.cuda()\n",
    "out = importedModel(images)"
   ]
  },
  {
   "cell_type": "code",
   "execution_count": 63,
   "id": "944b4c87-e127-4935-b3c0-5defe095268b",
   "metadata": {},
   "outputs": [
    {
     "name": "stdout",
     "output_type": "stream",
     "text": [
      "tensor(0., device='cuda:0', grad_fn=<SumBackward0>)\n"
     ]
    }
   ],
   "source": [
    "my_output = save_output.outputs[1][0]\n",
    "my_output = importedModel.layer1[0].conv1(my_output)\n",
    "my_output = importedModel.layer1[0].bn1(my_output)\n",
    "my_output = importedModel.layer1[0].relu(my_output)\n",
    "my_output = importedModel.layer1[0].conv2(my_output)\n",
    "my_output = importedModel.layer1[0].bn2(my_output)\n",
    "\n",
    "my_output = my_output + save_output.outputs[1][0]\n",
    "my_output = F.relu(my_output)\n",
    "\n",
    "print((my_output - save_output.outputs[3][0]).sum())"
   ]
  },
  {
   "cell_type": "code",
   "execution_count": null,
   "id": "44baaabc-acd8-4f95-b046-6113b97e3830",
   "metadata": {},
   "outputs": [],
   "source": []
  }
 ],
 "metadata": {
  "kernelspec": {
   "display_name": "Python 3 (ipykernel)",
   "language": "python",
   "name": "python3"
  },
  "language_info": {
   "codemirror_mode": {
    "name": "ipython",
    "version": 3
   },
   "file_extension": ".py",
   "mimetype": "text/x-python",
   "name": "python",
   "nbconvert_exporter": "python",
   "pygments_lexer": "ipython3",
   "version": "3.11.9"
  }
 },
 "nbformat": 4,
 "nbformat_minor": 5
}
