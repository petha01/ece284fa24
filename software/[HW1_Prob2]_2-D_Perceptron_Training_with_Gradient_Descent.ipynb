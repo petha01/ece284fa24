{
 "cells": [
  {
   "cell_type": "code",
   "execution_count": 1,
   "id": "5e603e57-ad81-41b9-a8aa-094ae84da275",
   "metadata": {},
   "outputs": [],
   "source": [
    "### Training with manually updating W with \"Backward\" ###\n",
    "\n",
    "import torch\n",
    "#from torch.autograd import Variable\n",
    "import torch.nn as nn\n",
    "import torch.nn.functional as F\n",
    "\n",
    "import torch.optim as optim\n",
    "import matplotlib.pyplot as plt"
   ]
  },
  {
   "cell_type": "code",
   "execution_count": 2,
   "id": "0aed17e2-4511-41bf-bf9e-f84d156f5367",
   "metadata": {},
   "outputs": [],
   "source": [
    "data = [(1.0,2.1,3.0), (2.0, 3.5, 6.0), (3.0, 3.0, 9.0), (4.0, 2.1, 12.0), (5.0, 7.2, 15.0), (6.0, 10.1, 18.0)]\n",
    "\n",
    "target = torch.tensor([[d[2]] for d in data], dtype=torch.float)\n",
    "data = torch.tensor([[d[0],d[1]] for d in data], dtype=torch.float)\n"
   ]
  },
  {
   "cell_type": "code",
   "execution_count": 3,
   "id": "1a660d38-8519-4fd5-8071-3b8e854ef7c4",
   "metadata": {},
   "outputs": [],
   "source": [
    "class Net(nn.Module):\n",
    "    def __init__(self):\n",
    "        super(Net, self).__init__()\n",
    "        self.fc1 = nn.Linear(2,1,bias=False)\n",
    "    def forward(self, x):\n",
    "        x = self.fc1(x)\n",
    "        return x"
   ]
  },
  {
   "cell_type": "code",
   "execution_count": 4,
   "id": "1d76d99f-1531-414a-9b90-b52e698c23ae",
   "metadata": {},
   "outputs": [
    {
     "name": "stdout",
     "output_type": "stream",
     "text": [
      "Net(\n",
      "  (fc1): Linear(in_features=2, out_features=1, bias=False)\n",
      ")\n",
      "[Parameter containing:\n",
      "tensor([[ 0.0632, -0.5951]], requires_grad=True)]\n"
     ]
    }
   ],
   "source": [
    "net = Net()\n",
    "\n",
    "print(net)\n",
    "print(list(net.parameters()))"
   ]
  },
  {
   "cell_type": "code",
   "execution_count": 5,
   "id": "a6770cc0-51d3-4295-8169-34497272c4fd",
   "metadata": {},
   "outputs": [
    {
     "data": {
      "text/plain": [
       "Ellipsis"
      ]
     },
     "execution_count": 5,
     "metadata": {},
     "output_type": "execute_result"
    }
   ],
   "source": [
    "#input = torch.randn(1)\n",
    "#out = net(input)\n",
    "\n",
    "#def criterion(out, label):\n",
    "#    return (label - out)**2\n",
    "criterion = nn.MSELoss()\n",
    "\n",
    "\n",
    "optimizer = optim.SGD(net.parameters(), lr=0.01, momentum=0.5)\n",
    "#optimizer = optim.Adam(net.parameters(), lr=0.005)\n",
    "\n",
    "..."
   ]
  },
  {
   "cell_type": "code",
   "execution_count": 6,
   "id": "1fe0b403-9e70-4c7b-8c25-4a898b9d8fe8",
   "metadata": {},
   "outputs": [
    {
     "name": "stdout",
     "output_type": "stream",
     "text": [
      "Epoch 0 - loss: 198.5062713623047\n",
      "Epoch 10 - loss: 2.0824508666992188\n",
      "Epoch 20 - loss: 0.2612893283367157\n",
      "Epoch 30 - loss: 0.04868486151099205\n",
      "Epoch 40 - loss: 0.00906317587941885\n",
      "Epoch 50 - loss: 0.0016870512627065182\n",
      "Epoch 60 - loss: 0.00031402864260599017\n",
      "Epoch 70 - loss: 5.846041312906891e-05\n",
      "Epoch 80 - loss: 1.088203953258926e-05\n",
      "Epoch 90 - loss: 2.0264817521820078e-06\n",
      "Epoch 100 - loss: 3.7711410527663247e-07\n",
      "Epoch 110 - loss: 7.051039574434981e-08\n",
      "Epoch 120 - loss: 1.3071257853880525e-08\n",
      "Epoch 130 - loss: 2.489893402568555e-09\n",
      "Epoch 140 - loss: 4.3686063100345507e-10\n",
      "Epoch 150 - loss: 8.852415328552965e-11\n",
      "Epoch 160 - loss: 1.5158244451307645e-11\n",
      "Epoch 170 - loss: 4.2443084637133754e-12\n",
      "Epoch 180 - loss: 3.031648933629616e-12\n",
      "Epoch 190 - loss: 3.031649096259942e-13\n",
      "Epoch 200 - loss: 6.063298192519884e-13\n",
      "Epoch 210 - loss: 6.063298192519884e-13\n",
      "Epoch 220 - loss: 6.063298192519884e-13\n",
      "Epoch 230 - loss: 3.031649096259942e-13\n",
      "Epoch 240 - loss: 6.063298192519884e-13\n",
      "Epoch 250 - loss: 3.031649096259942e-13\n",
      "Epoch 260 - loss: 3.031649096259942e-13\n",
      "Epoch 270 - loss: 3.031649096259942e-13\n",
      "Epoch 280 - loss: 3.031649096259942e-13\n",
      "Epoch 290 - loss: 3.031649096259942e-13\n",
      "Epoch 299 - loss: 6.063298192519884e-13\n"
     ]
    }
   ],
   "source": [
    "# Train with mini batch\n",
    "hist = []\n",
    "batch_size = 3\n",
    "for epoch in range(300):\n",
    "    for i in range(2):\n",
    "        # first iteration is 0,1,2\n",
    "        # second iteration is 3,4,5\n",
    "        batch_data = data[batch_size*i:batch_size*(i+1)]\n",
    "        batch_target = target[batch_size*i:batch_size*(i+1)]\n",
    "        optimizer.zero_grad()\n",
    "        outputs = net(batch_data)\n",
    "        loss = criterion(outputs, batch_target)\n",
    "        loss.backward()\n",
    "        hist.append(loss.detach())\n",
    "        optimizer.step()\n",
    "    if epoch%10==0: print(\"Epoch {} - loss: {}\".format(epoch, loss))\n",
    "print(\"Epoch {} - loss: {}\".format(epoch, loss))"
   ]
  },
  {
   "cell_type": "code",
   "execution_count": 7,
   "id": "6540126a-1ddf-467c-b45b-4d215148a156",
   "metadata": {},
   "outputs": [
    {
     "name": "stdout",
     "output_type": "stream",
     "text": [
      "when x = tensor([1.0000, 2.1000]), y = tensor([3.0000], grad_fn=<SqueezeBackward4>), actual=3.0\n",
      "when x = tensor([2.0000, 3.5000]), y = tensor([6.0000], grad_fn=<SqueezeBackward4>), actual=6.0\n",
      "when x = tensor([3., 3.]), y = tensor([9.0000], grad_fn=<SqueezeBackward4>), actual=9.0\n",
      "when x = tensor([4.0000, 2.1000]), y = tensor([12.0000], grad_fn=<SqueezeBackward4>), actual=12.0\n",
      "when x = tensor([5.0000, 7.2000]), y = tensor([15.0000], grad_fn=<SqueezeBackward4>), actual=15.0\n",
      "when x = tensor([ 6.0000, 10.1000]), y = tensor([18.], grad_fn=<SqueezeBackward4>), actual=18.0\n"
     ]
    },
    {
     "data": {
      "text/plain": [
       "[<matplotlib.lines.Line2D at 0x7f61bb8eb190>]"
      ]
     },
     "execution_count": 7,
     "metadata": {},
     "output_type": "execute_result"
    },
    {
     "data": {
      "image/png": "[encoded data removed]",
      "text/plain": [
       "<Figure size 640x480 with 1 Axes>"
      ]
     },
     "metadata": {},
     "output_type": "display_data"
    }
   ],
   "source": [
    "### Test the trained network ###\n",
    "for i, current_data in enumerate(data):\n",
    "    out = net(current_data)  \n",
    "    print(\"when x = {}, y = {}, actual={}\".format(current_data, out, target[i][0]))\n",
    "    \n",
    "plt.plot(hist, label = \"training curve\")"
   ]
  },
  {
   "cell_type": "code",
   "execution_count": null,
   "id": "86d6fc8d-5fed-4279-b454-811e9c39c606",
   "metadata": {},
   "outputs": [],
   "source": []
  }
 ],
 "metadata": {
  "kernelspec": {
   "display_name": "Python 3 (ipykernel)",
   "language": "python",
   "name": "python3"
  },
  "language_info": {
   "codemirror_mode": {
    "name": "ipython",
    "version": 3
   },
   "file_extension": ".py",
   "mimetype": "text/x-python",
   "name": "python",
   "nbconvert_exporter": "python",
   "pygments_lexer": "ipython3",
   "version": "3.11.9"
  }
 },
 "nbformat": 4,
 "nbformat_minor": 5
}
