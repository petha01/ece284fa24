{
 "cells": [
  {
   "cell_type": "code",
   "execution_count": 1,
   "id": "2d085a3b-0dec-44ff-b8d0-94ed2e07a939",
   "metadata": {},
   "outputs": [],
   "source": [
    "### Training with fancier version ###\n",
    "\n",
    "import torch\n",
    "import torch.nn as nn\n",
    "import torch.nn.functional as F\n",
    "\n",
    "import torch.optim as optim\n",
    "import matplotlib.pyplot as plt"
   ]
  },
  {
   "cell_type": "code",
   "execution_count": 2,
   "id": "d796b2f0-c148-4c55-8cc6-681e83e3b51d",
   "metadata": {},
   "outputs": [],
   "source": [
    "class Net(nn.Module): ## nn.Module class is used\n",
    "    def __init__(self):\n",
    "        super(Net, self).__init__()\n",
    "        self.fc1 = nn.Linear(1,4,bias=True)\n",
    "        self.fc2 = nn.Linear(4,2,bias=True)\n",
    "        self.fc3 = nn.Linear(2,1,bias=True)\n",
    "        \n",
    "    def forward(self, x):\n",
    "        x = self.fc1(x)\n",
    "        x = self.fc2(x)\n",
    "        x = self.fc3(x)\n",
    "        return x"
   ]
  },
  {
   "cell_type": "code",
   "execution_count": 3,
   "id": "c22fedff-bbc0-4f16-b4e7-6aa9466a8654",
   "metadata": {},
   "outputs": [
    {
     "name": "stdout",
     "output_type": "stream",
     "text": [
      "Net(\n",
      "  (fc1): Linear(in_features=1, out_features=4, bias=True)\n",
      "  (fc2): Linear(in_features=4, out_features=2, bias=True)\n",
      "  (fc3): Linear(in_features=2, out_features=1, bias=True)\n",
      ")\n",
      "[Parameter containing:\n",
      "tensor([[0.6069],\n",
      "        [0.1633],\n",
      "        [0.6082],\n",
      "        [0.4382]], requires_grad=True), Parameter containing:\n",
      "tensor([ 0.2887, -0.7627,  0.7429, -0.4042], requires_grad=True), Parameter containing:\n",
      "tensor([[-0.4526, -0.3115, -0.0193, -0.0988],\n",
      "        [-0.4668,  0.0628,  0.2531, -0.2065]], requires_grad=True), Parameter containing:\n",
      "tensor([-0.1692,  0.3208], requires_grad=True), Parameter containing:\n",
      "tensor([[ 0.3880, -0.3564]], requires_grad=True), Parameter containing:\n",
      "tensor([-0.3707], requires_grad=True)]\n"
     ]
    },
    {
     "data": {
      "image/png": "[encoded data removed]",
      "text/plain": [
       "<Figure size 800x600 with 1 Axes>"
      ]
     },
     "metadata": {},
     "output_type": "display_data"
    }
   ],
   "source": [
    "net = Net()\n",
    "\n",
    "print(net)\n",
    "print(list(net.parameters())) # parameters are randomized\n",
    "\n",
    "#def criterion(out, label):\n",
    "#    return (label - out)**2\n",
    "criterion = nn.MSELoss()\n",
    "\n",
    "\n",
    "# optimizer = optim.SGD(net.parameters(), lr=0.1)\n",
    "optimizer = optim.Adam(net.parameters(), lr=0.1)\n",
    "\n",
    "data = [(1.0,3.0), (2.0,6.0), (3.0,10.0), (4.0,15.0), (5.0,22.0), (6.0,32.0)]\n",
    "\n",
    "# Split data into x and y\n",
    "x_values, y_values = zip(*data)\n",
    "\n",
    "# Plotting\n",
    "plt.figure(figsize=(8, 6))\n",
    "plt.plot(x_values, y_values, marker='o', linestyle='-', color='b')\n",
    "plt.xlabel('X values')\n",
    "plt.ylabel('Y values')\n",
    "plt.grid(True)\n",
    "plt.show()"
   ]
  },
  {
   "cell_type": "code",
   "execution_count": 4,
   "id": "01153b13-30b0-4235-a0c5-ccb5f63f5346",
   "metadata": {},
   "outputs": [
    {
     "name": "stdout",
     "output_type": "stream",
     "text": [
      "Epoch 0 - loss: 37.72690200805664\n",
      "Epoch 5 - loss: 0.06008196994662285\n",
      "Epoch 10 - loss: 0.11538489907979965\n",
      "Epoch 15 - loss: 1.6395164728164673\n",
      "Epoch 20 - loss: 0.0009509830269962549\n",
      "Epoch 25 - loss: 0.10565803945064545\n",
      "Epoch 30 - loss: 0.1609192043542862\n",
      "Epoch 35 - loss: 0.012144864536821842\n",
      "Epoch 39 - loss: 6.9106063165236264e-06\n"
     ]
    }
   ],
   "source": [
    "numBatches = 6\n",
    "batchSize = len(data)//numBatches\n",
    "for epoch in range(100):\n",
    "    numBatches = 2\n",
    "    for i in range(numBatches):\n",
    "        currData = data[i*batchSize:(i+1)*batchSize]\n",
    "        X = [[d[0]] for d in currData]\n",
    "        Y = [[d[1]] for d in currData]\n",
    "        X, Y = torch.FloatTensor([X]), torch.FloatTensor([Y])\n",
    "        optimizer.zero_grad()   \n",
    "        outputs = net(X)\n",
    "        loss = criterion(outputs, Y)\n",
    "        loss.backward()\n",
    "        optimizer.step()\n",
    "    if epoch % 5 == 0:\n",
    "        print(\"Epoch {} - loss: {}\".format(epoch, loss))\n",
    "    if loss < 1e-5:\n",
    "        break\n",
    "print(\"Epoch {} - loss: {}\".format(epoch, loss))"
   ]
  },
  {
   "cell_type": "code",
   "execution_count": 5,
   "id": "428bf7a5-8b56-461c-aeb4-86d3d8d07f0c",
   "metadata": {},
   "outputs": [
    {
     "name": "stdout",
     "output_type": "stream",
     "text": [
      "when x = tensor([1.]), y = tensor([3.1255], grad_fn=<ViewBackward0>)\n",
      "when x = tensor([2.]), y = tensor([6.0287], grad_fn=<ViewBackward0>)\n",
      "when x = tensor([3.]), y = tensor([8.9318], grad_fn=<ViewBackward0>)\n",
      "when x = tensor([4.]), y = tensor([11.8349], grad_fn=<ViewBackward0>)\n",
      "when x = tensor([5.]), y = tensor([14.7381], grad_fn=<ViewBackward0>)\n",
      "when x = tensor([6.]), y = tensor([17.6412], grad_fn=<ViewBackward0>)\n"
     ]
    }
   ],
   "source": [
    "### Test the trained network ###            \n",
    "for i, current_data in enumerate(data):\n",
    "    X, Y = current_data\n",
    "    X, Y = torch.FloatTensor([X]), torch.FloatTensor([Y])  \n",
    "    out = net(torch.FloatTensor(X))  \n",
    "    print(\"when x = {}, y = {}\".format(X, out))\n",
    "    "
   ]
  },
  {
   "cell_type": "code",
   "execution_count": null,
   "id": "annual-chrome",
   "metadata": {},
   "outputs": [],
   "source": []
  }
 ],
 "metadata": {
  "kernelspec": {
   "display_name": "Python 3 (ipykernel)",
   "language": "python",
   "name": "python3"
  },
  "language_info": {
   "codemirror_mode": {
    "name": "ipython",
    "version": 3
   },
   "file_extension": ".py",
   "mimetype": "text/x-python",
   "name": "python",
   "nbconvert_exporter": "python",
   "pygments_lexer": "ipython3",
   "version": "3.11.9"
  }
 },
 "nbformat": 4,
 "nbformat_minor": 5
}
